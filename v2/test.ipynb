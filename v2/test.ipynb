{
 "cells": [
  {
   "cell_type": "code",
   "execution_count": 3,
   "id": "99123480",
   "metadata": {},
   "outputs": [],
   "source": [
    "import pandas as pd\n",
    "import numpy as np\n",
    "import matplotlib.pyplot as plt"
   ]
  },
  {
   "cell_type": "code",
   "execution_count": 16,
   "id": "a42962f3",
   "metadata": {},
   "outputs": [],
   "source": [
    "historical_data = pd.read_csv('historical_data.csv')\n",
    "forecast_data = pd.read_csv('forecasted_results.csv')"
   ]
  },
  {
   "cell_type": "code",
   "execution_count": 10,
   "id": "8142aa00",
   "metadata": {},
   "outputs": [
    {
     "data": {
      "text/plain": [
       "28"
      ]
     },
     "execution_count": 10,
     "metadata": {},
     "output_type": "execute_result"
    }
   ],
   "source": [
    "data.sku_id.nunique()"
   ]
  },
  {
   "cell_type": "code",
   "execution_count": 18,
   "id": "04a10dce",
   "metadata": {},
   "outputs": [],
   "source": [
    "list_of_unique_historical = [historical_data.sku_id.unique()]\n",
    "list_of_unique_forecasted = [forecast_data.sku_id.unique()]"
   ]
  },
  {
   "cell_type": "code",
   "execution_count": 26,
   "id": "9408b3fe",
   "metadata": {},
   "outputs": [],
   "source": [
    "parts = [\"Ear Plug\",\n",
    "\"Adhesive Paper Tape\",\n",
    "\"Grease\",\n",
    "\"Absorbent\",\n",
    "\"WD-40\",\n",
    "\"Teflon Tape\",\n",
    "\"Sandpaper\",\n",
    "\"Duct Tape\",\n",
    "\"Latex glove\",\n",
    "\"Viatran Sensor\",\n",
    "\"Never Seize\",\n",
    "\"A4 paper\",\n",
    "\"Dust Mask\",\n",
    "\"Chemical Suite\",\n",
    "\"Rubber Gloves\",\n",
    "\"Lanyard\",\n",
    "\"Face Shield\",\n",
    "\"Caution Tape\",\n",
    "\"Electrical Contact Cleaner\",\n",
    "\"Detergent\"\n",
    "\"Tie Wraps\",\n",
    "\"Rubber Boots\",\n",
    "\"Eye Glasses\",\n",
    "\"Bag of Rags\",\n",
    "\"O-rings\",\n",
    "\"Front Seal\",\n",
    "\"Seal Kit\",\n",
    "\"FMC Plug Valve kit\"]"
   ]
  },
  {
   "cell_type": "code",
   "execution_count": 31,
   "id": "e2d623d6",
   "metadata": {},
   "outputs": [
    {
     "data": {
      "text/plain": [
       "[array([216233, 216418, 216419, 216425, 217217, 217390, 217777, 219009,\n",
       "        219029, 219844, 222087, 222765, 223153, 223245, 245338, 245387,\n",
       "        300021, 300291, 320485, 327492, 378934, 398721, 545621, 546789,\n",
       "        547934, 600934, 673209, 679023])]"
      ]
     },
     "execution_count": 31,
     "metadata": {},
     "output_type": "execute_result"
    }
   ],
   "source": [
    "list_of_unique_historical"
   ]
  },
  {
   "cell_type": "code",
   "execution_count": null,
   "id": "28cb02ff",
   "metadata": {},
   "outputs": [],
   "source": []
  }
 ],
 "metadata": {
  "kernelspec": {
   "display_name": "demand_slb",
   "language": "python",
   "name": "python3"
  },
  "language_info": {
   "codemirror_mode": {
    "name": "ipython",
    "version": 3
   },
   "file_extension": ".py",
   "mimetype": "text/x-python",
   "name": "python",
   "nbconvert_exporter": "python",
   "pygments_lexer": "ipython3",
   "version": "3.12.11"
  }
 },
 "nbformat": 4,
 "nbformat_minor": 5
}
